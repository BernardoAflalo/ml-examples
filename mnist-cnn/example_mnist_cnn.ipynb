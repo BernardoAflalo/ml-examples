{
 "cells": [
  {
   "cell_type": "code",
   "execution_count": 20,
   "id": "kXUcakkMdUpQ",
   "metadata": {
    "colab": {
     "base_uri": "https://localhost:8080/"
    },
    "id": "kXUcakkMdUpQ",
    "outputId": "9fffabce-65a3-4ab3-c79c-7d8ba231287c"
   },
   "outputs": [
    {
     "name": "stdout",
     "output_type": "stream",
     "text": [
      "x_train shape: (60000, 28, 28)\n",
      "60000 train samples\n",
      "10000 test samples\n"
     ]
    }
   ],
   "source": [
    "import numpy as np\n",
    "from tensorflow import keras\n",
    "import seaborn as sns\n",
    "import matplotlib.pyplot as plt\n",
    "import pandas as pd\n",
    "from random import randrange\n",
    "# Model / data parameters\n",
    "num_classes = 10\n",
    "input_shape = (28, 28, 1)\n",
    "\n",
    "# the data, split between train and test sets\n",
    "(x_train, y_train), (x_test, y_test) = keras.datasets.mnist.load_data()\n",
    "\n",
    "# Scale images to the [0, 1] range\n",
    "x_train = x_train.astype(\"float32\") / 255\n",
    "x_test = x_test.astype(\"float32\") / 255\n",
    "\n",
    "print(\"x_train shape:\", x_train.shape)\n",
    "print(x_train.shape[0], \"train samples\")\n",
    "print(x_test.shape[0], \"test samples\")\n",
    "\n",
    "# convert class vectors to binary class matrices\n",
    "y_train = keras.utils.to_categorical(y_train, num_classes)\n",
    "y_test = keras.utils.to_categorical(y_test, num_classes)"
   ]
  },
  {
   "cell_type": "markdown",
   "id": "atWGIWFwjIuk",
   "metadata": {
    "id": "atWGIWFwjIuk"
   },
   "source": [
    "## Exemplo de uma rede simples\n",
    "**Atenção** Esta é uma arquitetura que produz resultados ruins! "
   ]
  },
  {
   "cell_type": "code",
   "execution_count": 21,
   "id": "5zelfb6IdmHm",
   "metadata": {
    "colab": {
     "base_uri": "https://localhost:8080/"
    },
    "id": "5zelfb6IdmHm",
    "outputId": "a2c7454e-89b0-469f-9163-e9a6001cb72c"
   },
   "outputs": [
    {
     "name": "stdout",
     "output_type": "stream",
     "text": [
      "Model: \"sequential_7\"\n",
      "_________________________________________________________________\n",
      " Layer (type)                Output Shape              Param #   \n",
      "=================================================================\n",
      " conv2d_8 (Conv2D)           (None, 26, 26, 8)         80        \n",
      "                                                                 \n",
      " max_pooling2d_8 (MaxPooling  (None, 13, 13, 8)        0         \n",
      " 2D)                                                             \n",
      "                                                                 \n",
      " flatten_7 (Flatten)         (None, 1352)              0         \n",
      "                                                                 \n",
      " dropout_7 (Dropout)         (None, 1352)              0         \n",
      "                                                                 \n",
      " dense_14 (Dense)            (None, 5)                 6765      \n",
      "                                                                 \n",
      " dense_15 (Dense)            (None, 10)                60        \n",
      "                                                                 \n",
      "=================================================================\n",
      "Total params: 6,905\n",
      "Trainable params: 6,905\n",
      "Non-trainable params: 0\n",
      "_________________________________________________________________\n"
     ]
    }
   ],
   "source": [
    "model = keras.Sequential(\n",
    "    [\n",
    "        keras.Input(shape=input_shape),\n",
    "        keras.layers.Conv2D(8, kernel_size=(3, 3), activation=\"relu\"),\n",
    "        keras.layers.MaxPooling2D(pool_size=(2, 2)),\n",
    "        keras.layers.Flatten(),\n",
    "        keras.layers.Dropout(0.4),\n",
    "        keras.layers.Dense(5, activation=\"sigmoid\"),\n",
    "        keras.layers.Dense(num_classes, activation=\"softmax\"),\n",
    "    ]\n",
    ")\n",
    "\n",
    "model.summary()"
   ]
  },
  {
   "cell_type": "code",
   "execution_count": 22,
   "id": "eBeGhqL3h5mH",
   "metadata": {
    "colab": {
     "base_uri": "https://localhost:8080/"
    },
    "id": "eBeGhqL3h5mH",
    "outputId": "44133944-2b09-4378-f185-53b601271e36"
   },
   "outputs": [
    {
     "name": "stdout",
     "output_type": "stream",
     "text": [
      "Epoch 1/8\n",
      "422/422 [==============================] - 6s 12ms/step - loss: 1.7860 - accuracy: 0.5337 - val_loss: 1.4149 - val_accuracy: 0.7730\n",
      "Epoch 2/8\n",
      "422/422 [==============================] - 5s 11ms/step - loss: 1.2778 - accuracy: 0.7610 - val_loss: 1.0549 - val_accuracy: 0.8388\n",
      "Epoch 3/8\n",
      "422/422 [==============================] - 5s 12ms/step - loss: 1.0092 - accuracy: 0.8095 - val_loss: 0.8341 - val_accuracy: 0.8715\n",
      "Epoch 4/8\n",
      "422/422 [==============================] - 5s 11ms/step - loss: 0.8345 - accuracy: 0.8391 - val_loss: 0.6786 - val_accuracy: 0.9017\n",
      "Epoch 5/8\n",
      "422/422 [==============================] - 5s 11ms/step - loss: 0.7107 - accuracy: 0.8622 - val_loss: 0.5694 - val_accuracy: 0.9125\n",
      "Epoch 6/8\n",
      "422/422 [==============================] - 5s 11ms/step - loss: 0.6199 - accuracy: 0.8769 - val_loss: 0.4843 - val_accuracy: 0.9253\n",
      "Epoch 7/8\n",
      "422/422 [==============================] - 5s 11ms/step - loss: 0.5537 - accuracy: 0.8823 - val_loss: 0.4233 - val_accuracy: 0.9288\n",
      "Epoch 8/8\n",
      "422/422 [==============================] - 5s 11ms/step - loss: 0.5050 - accuracy: 0.8884 - val_loss: 0.3729 - val_accuracy: 0.9345\n"
     ]
    }
   ],
   "source": [
    "batch_size = 128\n",
    "epochs = 8\n",
    "model.compile(loss=\"categorical_crossentropy\", optimizer=\"adam\", metrics=[\"accuracy\"])\n",
    "history = model.fit(x_train, y_train, batch_size=batch_size, epochs=epochs, validation_split=0.1)"
   ]
  },
  {
   "cell_type": "code",
   "execution_count": 23,
   "id": "KmHCEUMTe4sL",
   "metadata": {
    "colab": {
     "base_uri": "https://localhost:8080/"
    },
    "id": "KmHCEUMTe4sL",
    "outputId": "7f0a1f54-d14c-42ac-e76c-a4a7cbc51cd0"
   },
   "outputs": [
    {
     "name": "stdout",
     "output_type": "stream",
     "text": [
      "Test accuracy: 0.9272000193595886\n"
     ]
    }
   ],
   "source": [
    "def print_loss_accuracy(model):\n",
    "  score = model.evaluate(x_test, y_test, verbose=0)\n",
    "  print('Test accuracy:', score[1])\n",
    "print_loss_accuracy(model)"
   ]
  },
  {
   "cell_type": "code",
   "execution_count": 24,
   "id": "EVNsLy0Nfseq",
   "metadata": {
    "colab": {
     "base_uri": "https://localhost:8080/",
     "height": 295
    },
    "id": "EVNsLy0Nfseq",
    "outputId": "12f8e571-e79b-4dac-9cdc-b8fef9c66896"
   },
   "outputs": [
    {
     "data": {
      "image/png": "[encoded data removed]",
      "text/plain": [
       "<Figure size 432x288 with 1 Axes>"
      ]
     },
     "metadata": {
      "needs_background": "light"
     },
     "output_type": "display_data"
    }
   ],
   "source": [
    "def plot_accuracy_convergence(history):\n",
    "  # Plotando acurácia ao longo das épocas\n",
    "  plt.plot(history.history['accuracy'])\n",
    "  plt.plot(history.history['val_accuracy'])\n",
    "  plt.title('model accuracy')\n",
    "  plt.ylabel('accuracy')\n",
    "  plt.xlabel('epoch')\n",
    "  plt.legend(['train', 'test'], loc='upper left')\n",
    "  plt.show()\n",
    "plot_accuracy_convergence(history)"
   ]
  },
  {
   "cell_type": "code",
   "execution_count": 25,
   "id": "uE2Lhkr1fAJA",
   "metadata": {
    "colab": {
     "base_uri": "https://localhost:8080/",
     "height": 269
    },
    "id": "uE2Lhkr1fAJA",
    "outputId": "06bb1060-e579-4543-ae1e-4c22c63f9bfa"
   },
   "outputs": [
    {
     "data": {
      "image/png": "[encoded data removed]",
      "text/plain": [
       "<Figure size 432x288 with 3 Axes>"
      ]
     },
     "metadata": {
      "needs_background": "light"
     },
     "output_type": "display_data"
    }
   ],
   "source": [
    "def give_me_some_estimative():\n",
    "  ii_test = randrange(y_test.shape[0])\n",
    "  plt.subplot(1, 2, 1)\n",
    "  sns.heatmap(x_test[ii_test].reshape(28, 28), cmap = 'gray_r', vmin = 0, vmax = 1)\n",
    "  plt.subplot(1, 2, 2)\n",
    "  pd.Series(model.predict(x_test[ii_test].reshape(1, 28, 28))[0]).plot(kind = 'bar')\n",
    "give_me_some_estimative()"
   ]
  },
  {
   "cell_type": "markdown",
   "id": "20c15e61",
   "metadata": {},
   "source": [
    "## Exercício\n",
    "\n",
    "Em grupos, alterar os hiperparâmetros/ arquitetura da rede, com o objetivo de aumentar a acurácia final. \n",
    "\n",
    "Fiquem à vontade para alterar qualquer parâmetro, como por exemplo:\n",
    "- A quantidade/ tipo das layers\n",
    "- O tamanho dos filtros/ camadas\n",
    "- Dropout\n",
    "- Batch size, epochs\n",
    "\n",
    "**Atenção:** O modelo deve rodar em menos de 2 minutos, já considerando todas as épocas!\n",
    "\n",
    "Ao final, cada grupo deve apresentar a acurácia final, o que foi alterado na arquitetura e o porquê."
   ]
  },
  {
   "cell_type": "code",
   "execution_count": 26,
   "id": "23efa8d0",
   "metadata": {},
   "outputs": [
    {
     "name": "stdout",
     "output_type": "stream",
     "text": [
      "422/422 [==============================] - 5s 12ms/step - loss: 1.7450 - accuracy: 0.5102 - val_loss: 1.3846 - val_accuracy: 0.7442\n",
      "Test accuracy: 0.7300000190734863\n"
     ]
    }
   ],
   "source": [
    "model = keras.Sequential(\n",
    "    [\n",
    "        keras.Input(shape=input_shape),\n",
    "        keras.layers.Conv2D(8, kernel_size=(3, 3), activation=\"relu\"),\n",
    "        keras.layers.MaxPooling2D(pool_size=(2, 2)),\n",
    "        keras.layers.Flatten(),\n",
    "        keras.layers.Dropout(0.4),\n",
    "        keras.layers.Dense(5, activation=\"sigmoid\"),\n",
    "        keras.layers.Dense(num_classes, activation=\"softmax\"),\n",
    "    ]\n",
    ")\n",
    "\n",
    "batch_size = 128\n",
    "epochs = 1\n",
    "\n",
    "model.compile(loss=\"categorical_crossentropy\", optimizer=\"adam\", metrics=[\"accuracy\"])\n",
    "history = model.fit(x_train, y_train, batch_size=batch_size, epochs=epochs, validation_split=0.1)\n",
    "\n",
    "print_loss_accuracy(model)"
   ]
  }
 ],
 "metadata": {
  "colab": {
   "name": "example mnist.ipynb",
   "provenance": []
  },
  "kernelspec": {
   "display_name": "Python 3 (ipykernel)",
   "language": "python",
   "name": "python3"
  },
  "language_info": {
   "codemirror_mode": {
    "name": "ipython",
    "version": 3
   },
   "file_extension": ".py",
   "mimetype": "text/x-python",
   "name": "python",
   "nbconvert_exporter": "python",
   "pygments_lexer": "ipython3",
   "version": "3.9.7"
  }
 },
 "nbformat": 4,
 "nbformat_minor": 5
}
