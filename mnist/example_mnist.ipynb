{
  "cells": [
    {
      "cell_type": "code",
      "source": [
        "import numpy as np\n",
        "from tensorflow import keras\n",
        "from tensorflow.keras import layers\n",
        "import seaborn as sns\n",
        "import matplotlib.pyplot as plt\n",
        "import pandas as pd\n",
        "from random import randrange\n",
        "# Model / data parameters\n",
        "num_classes = 10\n",
        "input_shape = (28, 28, 1)\n",
        "\n",
        "# the data, split between train and test sets\n",
        "(x_train, y_train), (x_test, y_test) = keras.datasets.mnist.load_data()\n",
        "\n",
        "# Scale images to the [0, 1] range\n",
        "x_train = x_train.astype(\"float32\") / 255\n",
        "x_test = x_test.astype(\"float32\") / 255\n",
        "\n",
        "x_train = x_train.reshape(60000, 784)\n",
        "x_test = x_test.reshape(10000, 784)\n",
        "\n",
        "print(\"x_train shape:\", x_train.shape)\n",
        "print(x_train.shape[0], \"train samples\")\n",
        "print(x_test.shape[0], \"test samples\")\n",
        "\n",
        "# convert class vectors to binary class matrices\n",
        "y_train = keras.utils.to_categorical(y_train, num_classes)\n",
        "y_test = keras.utils.to_categorical(y_test, num_classes)"
      ],
      "metadata": {
        "id": "kXUcakkMdUpQ",
        "outputId": "9fffabce-65a3-4ab3-c79c-7d8ba231287c",
        "colab": {
          "base_uri": "https://localhost:8080/"
        }
      },
      "id": "kXUcakkMdUpQ",
      "execution_count": 44,
      "outputs": [
        {
          "output_type": "stream",
          "name": "stdout",
          "text": [
            "x_train shape: (60000, 784)\n",
            "60000 train samples\n",
            "10000 test samples\n"
          ]
        }
      ]
    },
    {
      "cell_type": "markdown",
      "source": [
        "## Exemplo de uma rede simples\n",
        "10 neurônios na camada intermediária"
      ],
      "metadata": {
        "id": "atWGIWFwjIuk"
      },
      "id": "atWGIWFwjIuk"
    },
    {
      "cell_type": "code",
      "source": [
        "model = keras.Sequential(\n",
        "    [\n",
        "        layers.Dense(10, input_dim=784, activation=\"relu\"),\n",
        "        layers.Dense(num_classes, activation=\"softmax\"),\n",
        "    ]\n",
        ")\n",
        "model.summary()"
      ],
      "metadata": {
        "id": "5zelfb6IdmHm",
        "outputId": "a2c7454e-89b0-469f-9163-e9a6001cb72c",
        "colab": {
          "base_uri": "https://localhost:8080/"
        }
      },
      "id": "5zelfb6IdmHm",
      "execution_count": 45,
      "outputs": [
        {
          "output_type": "stream",
          "name": "stdout",
          "text": [
            "Model: \"sequential_6\"\n",
            "_________________________________________________________________\n",
            " Layer (type)                Output Shape              Param #   \n",
            "=================================================================\n",
            " dense_8 (Dense)             (None, 10)                7850      \n",
            "                                                                 \n",
            " dense_9 (Dense)             (None, 10)                110       \n",
            "                                                                 \n",
            "=================================================================\n",
            "Total params: 7,960\n",
            "Trainable params: 7,960\n",
            "Non-trainable params: 0\n",
            "_________________________________________________________________\n"
          ]
        }
      ]
    },
    {
      "cell_type": "code",
      "source": [
        "batch_size = 128\n",
        "epochs = 5\n",
        "model.compile(loss=\"categorical_crossentropy\", optimizer=\"adam\", metrics=[\"accuracy\"])\n",
        "history = model.fit(x_train, y_train, batch_size=batch_size, epochs=epochs, validation_split=0.1)"
      ],
      "metadata": {
        "id": "eBeGhqL3h5mH",
        "outputId": "44133944-2b09-4378-f185-53b601271e36",
        "colab": {
          "base_uri": "https://localhost:8080/"
        }
      },
      "id": "eBeGhqL3h5mH",
      "execution_count": 46,
      "outputs": [
        {
          "output_type": "stream",
          "name": "stdout",
          "text": [
            "Epoch 1/5\n",
            "422/422 [==============================] - 2s 3ms/step - loss: 0.8337 - accuracy: 0.7623 - val_loss: 0.3491 - val_accuracy: 0.9095\n",
            "Epoch 2/5\n",
            "422/422 [==============================] - 1s 3ms/step - loss: 0.3646 - accuracy: 0.8978 - val_loss: 0.2744 - val_accuracy: 0.9227\n",
            "Epoch 3/5\n",
            "422/422 [==============================] - 1s 3ms/step - loss: 0.3161 - accuracy: 0.9106 - val_loss: 0.2519 - val_accuracy: 0.9305\n",
            "Epoch 4/5\n",
            "422/422 [==============================] - 1s 3ms/step - loss: 0.2955 - accuracy: 0.9167 - val_loss: 0.2367 - val_accuracy: 0.9342\n",
            "Epoch 5/5\n",
            "422/422 [==============================] - 1s 3ms/step - loss: 0.2830 - accuracy: 0.9193 - val_loss: 0.2300 - val_accuracy: 0.9357\n"
          ]
        }
      ]
    },
    {
      "cell_type": "code",
      "source": [
        "def print_loss_accuracy(model):\n",
        "  score = model.evaluate(x_test, y_test, verbose=0)\n",
        "  print('Test loss:', score[0])\n",
        "  print('Test accuracy:', score[1])\n",
        "print_loss_accuracy(model)"
      ],
      "metadata": {
        "id": "KmHCEUMTe4sL",
        "outputId": "7f0a1f54-d14c-42ac-e76c-a4a7cbc51cd0",
        "colab": {
          "base_uri": "https://localhost:8080/"
        }
      },
      "id": "KmHCEUMTe4sL",
      "execution_count": 47,
      "outputs": [
        {
          "output_type": "stream",
          "name": "stdout",
          "text": [
            "Test loss: 0.27354589104652405\n",
            "Test accuracy: 0.9247000217437744\n"
          ]
        }
      ]
    },
    {
      "cell_type": "code",
      "source": [
        "def plot_accuracy_convergence(history):\n",
        "  # Plotando acurácia ao longo das épocas\n",
        "  plt.plot(history.history['accuracy'])\n",
        "  plt.plot(history.history['val_accuracy'])\n",
        "  plt.title('model accuracy')\n",
        "  plt.ylabel('accuracy')\n",
        "  plt.xlabel('epoch')\n",
        "  plt.legend(['train', 'test'], loc='upper left')\n",
        "  plt.show()\n",
        "plot_accuracy_convergence(history)"
      ],
      "metadata": {
        "id": "EVNsLy0Nfseq",
        "outputId": "12f8e571-e79b-4dac-9cdc-b8fef9c66896",
        "colab": {
          "base_uri": "https://localhost:8080/",
          "height": 295
        }
      },
      "id": "EVNsLy0Nfseq",
      "execution_count": 48,
      "outputs": [
        {
          "output_type": "display_data",
          "data": {
            "image/png": "[encoded data removed]",
            "text/plain": [
              "<Figure size 432x288 with 1 Axes>"
            ]
          },
          "metadata": {
            "needs_background": "light"
          }
        }
      ]
    },
    {
      "cell_type": "code",
      "source": [
        "def give_me_some_estimative():\n",
        "  ii_test = randrange(y_test.shape[0])\n",
        "  plt.subplot(1, 2, 1)\n",
        "  sns.heatmap(x_test[ii_test].reshape(28, 28), cmap = 'gray_r', vmin = 0, vmax = 1)\n",
        "  plt.subplot(1, 2, 2)\n",
        "  pd.Series(model.predict(x_test[ii_test].reshape(1, 784))[0]).plot(kind = 'bar')\n",
        "give_me_some_estimative()"
      ],
      "metadata": {
        "id": "uE2Lhkr1fAJA",
        "outputId": "06bb1060-e579-4543-ae1e-4c22c63f9bfa",
        "colab": {
          "base_uri": "https://localhost:8080/",
          "height": 269
        }
      },
      "id": "uE2Lhkr1fAJA",
      "execution_count": 49,
      "outputs": [
        {
          "output_type": "display_data",
          "data": {
            "image/png": "[encoded data removed]",
            "text/plain": [
              "<Figure size 432x288 with 3 Axes>"
            ]
          },
          "metadata": {
            "needs_background": "light"
          }
        }
      ]
    },
    {
      "cell_type": "markdown",
      "source": [
        "## Exemplo de uma rede (ainda mais) simples\n",
        "Sem neurônios na camada intermediária"
      ],
      "metadata": {
        "id": "MhWfO6V0i67H"
      },
      "id": "MhWfO6V0i67H"
    },
    {
      "cell_type": "code",
      "execution_count": 50,
      "id": "3cca13f4",
      "metadata": {
        "id": "3cca13f4",
        "outputId": "e4acf46d-2352-40ba-b2b2-8c6f71d4c272",
        "colab": {
          "base_uri": "https://localhost:8080/"
        }
      },
      "outputs": [
        {
          "output_type": "stream",
          "name": "stdout",
          "text": [
            "Model: \"sequential_7\"\n",
            "_________________________________________________________________\n",
            " Layer (type)                Output Shape              Param #   \n",
            "=================================================================\n",
            " dense_10 (Dense)            (None, 10)                7850      \n",
            "                                                                 \n",
            "=================================================================\n",
            "Total params: 7,850\n",
            "Trainable params: 7,850\n",
            "Non-trainable params: 0\n",
            "_________________________________________________________________\n"
          ]
        }
      ],
      "source": [
        "\n",
        "model = keras.Sequential(\n",
        "    [\n",
        "        layers.Dense(num_classes, input_dim=784, activation=\"softmax\"),\n",
        "    ]\n",
        ")\n",
        "model.summary()"
      ]
    },
    {
      "cell_type": "code",
      "source": [
        "batch_size = 128\n",
        "epochs = 5\n",
        "model.compile(loss=\"categorical_crossentropy\", optimizer=\"adam\", metrics=[\"accuracy\"])\n",
        "history = model.fit(x_train, y_train, batch_size=batch_size, epochs=epochs, validation_split=0.1)"
      ],
      "metadata": {
        "id": "PUDePO_Lim7Y",
        "outputId": "f6269b35-17ea-4b88-93d4-b7fbf5f6eecf",
        "colab": {
          "base_uri": "https://localhost:8080/"
        }
      },
      "id": "PUDePO_Lim7Y",
      "execution_count": 51,
      "outputs": [
        {
          "output_type": "stream",
          "name": "stdout",
          "text": [
            "Epoch 1/5\n",
            "422/422 [==============================] - 2s 3ms/step - loss: 0.7169 - accuracy: 0.8215 - val_loss: 0.3525 - val_accuracy: 0.9138\n",
            "Epoch 2/5\n",
            "422/422 [==============================] - 1s 3ms/step - loss: 0.3787 - accuracy: 0.8982 - val_loss: 0.2874 - val_accuracy: 0.9250\n",
            "Epoch 3/5\n",
            "422/422 [==============================] - 1s 3ms/step - loss: 0.3314 - accuracy: 0.9092 - val_loss: 0.2637 - val_accuracy: 0.9285\n",
            "Epoch 4/5\n",
            "422/422 [==============================] - 1s 3ms/step - loss: 0.3101 - accuracy: 0.9142 - val_loss: 0.2503 - val_accuracy: 0.9320\n",
            "Epoch 5/5\n",
            "422/422 [==============================] - 1s 2ms/step - loss: 0.2972 - accuracy: 0.9173 - val_loss: 0.2423 - val_accuracy: 0.9343\n"
          ]
        }
      ]
    },
    {
      "cell_type": "code",
      "source": [
        "print_loss_accuracy(model)"
      ],
      "metadata": {
        "id": "rTP01Bblix0X",
        "outputId": "31a7540d-b923-47fd-f1c4-4151e1b9e279",
        "colab": {
          "base_uri": "https://localhost:8080/"
        }
      },
      "id": "rTP01Bblix0X",
      "execution_count": 52,
      "outputs": [
        {
          "output_type": "stream",
          "name": "stdout",
          "text": [
            "Test loss: 0.2808072865009308\n",
            "Test accuracy: 0.9222999811172485\n"
          ]
        }
      ]
    },
    {
      "cell_type": "code",
      "source": [
        "plot_accuracy_convergence(history)"
      ],
      "metadata": {
        "id": "P5Cbk02kirtS",
        "outputId": "50876d14-2680-4700-dc28-3c33a9df6c26",
        "colab": {
          "base_uri": "https://localhost:8080/",
          "height": 295
        }
      },
      "id": "P5Cbk02kirtS",
      "execution_count": 53,
      "outputs": [
        {
          "output_type": "display_data",
          "data": {
            "image/png": "[encoded data removed]",
            "text/plain": [
              "<Figure size 432x288 with 1 Axes>"
            ]
          },
          "metadata": {
            "needs_background": "light"
          }
        }
      ]
    },
    {
      "cell_type": "code",
      "source": [
        "give_me_some_estimative()"
      ],
      "metadata": {
        "id": "PmawhgrfivF-",
        "outputId": "63caa648-e990-4c45-a855-251280ea4837",
        "colab": {
          "base_uri": "https://localhost:8080/",
          "height": 307
        }
      },
      "id": "PmawhgrfivF-",
      "execution_count": 54,
      "outputs": [
        {
          "output_type": "stream",
          "name": "stdout",
          "text": [
            "WARNING:tensorflow:5 out of the last 14 calls to <function Model.make_predict_function.<locals>.predict_function at 0x7fa609669e60> triggered tf.function retracing. Tracing is expensive and the excessive number of tracings could be due to (1) creating @tf.function repeatedly in a loop, (2) passing tensors with different shapes, (3) passing Python objects instead of tensors. For (1), please define your @tf.function outside of the loop. For (2), @tf.function has experimental_relax_shapes=True option that relaxes argument shapes that can avoid unnecessary retracing. For (3), please refer to https://www.tensorflow.org/guide/function#controlling_retracing and https://www.tensorflow.org/api_docs/python/tf/function for  more details.\n"
          ]
        },
        {
          "output_type": "display_data",
          "data": {
            "image/png": "[encoded data removed]",
            "text/plain": [
              "<Figure size 432x288 with 3 Axes>"
            ]
          },
          "metadata": {
            "needs_background": "light"
          }
        }
      ]
    }
  ],
  "metadata": {
    "kernelspec": {
      "display_name": "Python 3 (ipykernel)",
      "language": "python",
      "name": "python3"
    },
    "language_info": {
      "codemirror_mode": {
        "name": "ipython",
        "version": 3
      },
      "file_extension": ".py",
      "mimetype": "text/x-python",
      "name": "python",
      "nbconvert_exporter": "python",
      "pygments_lexer": "ipython3",
      "version": "3.9.7"
    },
    "colab": {
      "name": "example mnist.ipynb",
      "provenance": []
    }
  },
  "nbformat": 4,
  "nbformat_minor": 5
}