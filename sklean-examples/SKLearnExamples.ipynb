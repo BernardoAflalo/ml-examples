{
 "cells": [
  {
   "cell_type": "code",
   "execution_count": 1,
   "id": "650fd9cc",
   "metadata": {},
   "outputs": [],
   "source": [
    "from sklearn.datasets import make_classification\n",
    "import numpy as np\n",
    "import pandas as pd\n",
    "from sklearn.datasets import make_classification, make_regression\n",
    "from sklearn.model_selection import train_test_split"
   ]
  },
  {
   "cell_type": "markdown",
   "id": "b74a97a5",
   "metadata": {},
   "source": [
    "### SVM"
   ]
  },
  {
   "cell_type": "code",
   "execution_count": 2,
   "id": "d223a5c4",
   "metadata": {},
   "outputs": [
    {
     "data": {
      "text/html": [
       "<div>\n",
       "<style scoped>\n",
       "    .dataframe tbody tr th:only-of-type {\n",
       "        vertical-align: middle;\n",
       "    }\n",
       "\n",
       "    .dataframe tbody tr th {\n",
       "        vertical-align: top;\n",
       "    }\n",
       "\n",
       "    .dataframe thead th {\n",
       "        text-align: right;\n",
       "    }\n",
       "</style>\n",
       "<table border=\"1\" class=\"dataframe\">\n",
       "  <thead>\n",
       "    <tr style=\"text-align: right;\">\n",
       "      <th></th>\n",
       "      <th>0</th>\n",
       "      <th>1</th>\n",
       "      <th>2</th>\n",
       "      <th>3</th>\n",
       "      <th>4</th>\n",
       "      <th>5</th>\n",
       "      <th>6</th>\n",
       "      <th>7</th>\n",
       "      <th>8</th>\n",
       "      <th>9</th>\n",
       "    </tr>\n",
       "  </thead>\n",
       "  <tbody>\n",
       "    <tr>\n",
       "      <th>91</th>\n",
       "      <td>-0.068606</td>\n",
       "      <td>-3.569090</td>\n",
       "      <td>1.534332</td>\n",
       "      <td>-2.442784</td>\n",
       "      <td>0.899323</td>\n",
       "      <td>2.410271</td>\n",
       "      <td>-0.484840</td>\n",
       "      <td>-1.620173</td>\n",
       "      <td>-0.658592</td>\n",
       "      <td>-1.029146</td>\n",
       "    </tr>\n",
       "    <tr>\n",
       "      <th>59</th>\n",
       "      <td>-1.493561</td>\n",
       "      <td>2.149616</td>\n",
       "      <td>-1.014047</td>\n",
       "      <td>0.556938</td>\n",
       "      <td>0.102549</td>\n",
       "      <td>-1.620653</td>\n",
       "      <td>3.281311</td>\n",
       "      <td>-0.032363</td>\n",
       "      <td>2.008881</td>\n",
       "      <td>-1.909546</td>\n",
       "    </tr>\n",
       "    <tr>\n",
       "      <th>0</th>\n",
       "      <td>-0.874351</td>\n",
       "      <td>1.816047</td>\n",
       "      <td>-0.762104</td>\n",
       "      <td>1.226795</td>\n",
       "      <td>-2.438793</td>\n",
       "      <td>-0.748152</td>\n",
       "      <td>-1.255151</td>\n",
       "      <td>0.806747</td>\n",
       "      <td>-0.935662</td>\n",
       "      <td>0.624055</td>\n",
       "    </tr>\n",
       "    <tr>\n",
       "      <th>34</th>\n",
       "      <td>-1.021872</td>\n",
       "      <td>0.937608</td>\n",
       "      <td>0.746115</td>\n",
       "      <td>-1.523607</td>\n",
       "      <td>2.993583</td>\n",
       "      <td>-1.518693</td>\n",
       "      <td>5.591233</td>\n",
       "      <td>0.606161</td>\n",
       "      <td>4.243895</td>\n",
       "      <td>-1.173528</td>\n",
       "    </tr>\n",
       "    <tr>\n",
       "      <th>28</th>\n",
       "      <td>-0.702318</td>\n",
       "      <td>-0.266845</td>\n",
       "      <td>1.158608</td>\n",
       "      <td>-1.236176</td>\n",
       "      <td>-0.069961</td>\n",
       "      <td>0.465530</td>\n",
       "      <td>0.095236</td>\n",
       "      <td>0.950579</td>\n",
       "      <td>0.461767</td>\n",
       "      <td>0.914805</td>\n",
       "    </tr>\n",
       "  </tbody>\n",
       "</table>\n",
       "</div>"
      ],
      "text/plain": [
       "           0         1         2         3         4         5         6  \\\n",
       "91 -0.068606 -3.569090  1.534332 -2.442784  0.899323  2.410271 -0.484840   \n",
       "59 -1.493561  2.149616 -1.014047  0.556938  0.102549 -1.620653  3.281311   \n",
       "0  -0.874351  1.816047 -0.762104  1.226795 -2.438793 -0.748152 -1.255151   \n",
       "34 -1.021872  0.937608  0.746115 -1.523607  2.993583 -1.518693  5.591233   \n",
       "28 -0.702318 -0.266845  1.158608 -1.236176 -0.069961  0.465530  0.095236   \n",
       "\n",
       "           7         8         9  \n",
       "91 -1.620173 -0.658592 -1.029146  \n",
       "59 -0.032363  2.008881 -1.909546  \n",
       "0   0.806747 -0.935662  0.624055  \n",
       "34  0.606161  4.243895 -1.173528  \n",
       "28  0.950579  0.461767  0.914805  "
      ]
     },
     "execution_count": 2,
     "metadata": {},
     "output_type": "execute_result"
    }
   ],
   "source": [
    "from sklearn import svm\n",
    "from sklearn.datasets import make_classification\n",
    "# Criando dados Fake - Classification\n",
    "X, y = make_classification(n_samples=100, n_features=10, n_informative=5, n_redundant=5, n_classes=2, random_state=1)\n",
    "X = pd.DataFrame(X)\n",
    "X_train, X_test, y_train, y_test = train_test_split(X, y, test_size=0.5, random_state=0)\n",
    "X_train.head()"
   ]
  },
  {
   "cell_type": "code",
   "execution_count": 3,
   "id": "b5e70646",
   "metadata": {},
   "outputs": [
    {
     "data": {
      "text/plain": [
       "array([1, 0, 1, 1, 1, 1, 0, 1, 0, 1, 0, 1, 1, 1, 1, 1, 1, 0, 1, 0, 0, 1,\n",
       "       0, 0, 1, 1, 1, 0, 0, 0, 0, 0, 0, 1, 0, 1, 0, 0, 0, 0, 1, 0, 0, 1,\n",
       "       1, 0, 1, 0, 0, 0])"
      ]
     },
     "execution_count": 3,
     "metadata": {},
     "output_type": "execute_result"
    }
   ],
   "source": [
    "y_train"
   ]
  },
  {
   "cell_type": "code",
   "execution_count": 4,
   "id": "f29f0536",
   "metadata": {},
   "outputs": [
    {
     "name": "stdout",
     "output_type": "stream",
     "text": [
      "Accuracy training: 1.0\n",
      "Accuracy test: 0.9\n"
     ]
    }
   ],
   "source": [
    "#svm_model = svm.SVC()\n",
    "\n",
    "svm_model = svm.SVC(C = 15, kernel = 'rbf', degree = 100)\n",
    "\n",
    "svm_model.fit(X_train, y_train)\n",
    "\n",
    "res_svm = svm_model.predict(X_test)\n",
    "\n",
    "# Erro training set\n",
    "acc_svm_train = 1 - np.mean(abs(svm_model.predict(X_train)-y_train))\n",
    "print(f'Accuracy training: {acc_svm_train}')\n",
    "\n",
    "# Erro test set\n",
    "acc_svm = 1 - np.mean(abs(res_svm-y_test))\n",
    "print(f'Accuracy test: {acc_svm}')"
   ]
  },
  {
   "cell_type": "markdown",
   "id": "cfebada1",
   "metadata": {},
   "source": [
    "### Boosts de Árvores (xgboost, lgbm, catboost)"
   ]
  },
  {
   "cell_type": "code",
   "execution_count": 14,
   "id": "f8689e29",
   "metadata": {},
   "outputs": [
    {
     "name": "stdout",
     "output_type": "stream",
     "text": [
      "MSE: 2940.060155321576\n",
      "R2: 0.8971307857247982\n",
      "R2 modelo Naive (predict = média): 0.0\n"
     ]
    }
   ],
   "source": [
    "from catboost import CatBoostClassifier, CatBoostRegressor\n",
    "from lightgbm import LGBMClassifier, LGBMRegressor\n",
    "from sklearn.ensemble import GradientBoostingClassifier, GradientBoostingRegressor\n",
    "from sklearn.datasets import make_classification, make_regression\n",
    "from sklearn.metrics import r2_score\n",
    "\n",
    "X, y = make_regression(n_samples=1024, n_features=20, random_state=0)\n",
    "X = pd.DataFrame(X)\n",
    "X_train, X_test, y_train, y_test = train_test_split(X, y, test_size=0.5, random_state=0)\n",
    "\n",
    "#model = GradientBoostingRegressor()\n",
    "model = LGBMRegressor()\n",
    "#model = CatBoostRegressor()\n",
    "\n",
    "model.fit(X_train, y_train)\n",
    "\n",
    "results = model.predict(X_test)\n",
    "\n",
    "# Avaliando resultados\n",
    "MSE = np.mean((results - y_test)**2)\n",
    "print(f'MSE: {MSE}')\n",
    "\n",
    "mean_calc = np.mean(y_test)\n",
    "\n",
    "r2 = r2_score(y_test,results)\n",
    "print(f'R2: {r2}')\n",
    "\n",
    "r2 = r2_score(y_test, [mean_calc] * y_test.shape[0])\n",
    "print(f'R2 modelo Naive (predict = média): {r2}')"
   ]
  },
  {
   "cell_type": "markdown",
   "id": "dc7b3877",
   "metadata": {},
   "source": [
    "### Tree"
   ]
  },
  {
   "cell_type": "code",
   "execution_count": 6,
   "id": "1bf84f27",
   "metadata": {},
   "outputs": [
    {
     "name": "stdout",
     "output_type": "stream",
     "text": [
      "Accuracy: 0.8200000000000001\n"
     ]
    }
   ],
   "source": [
    "from sklearn.tree import DecisionTreeClassifier\n",
    "from sklearn.ensemble import RandomForestClassifier\n",
    "model = CatBoostRegressor()\n",
    "X, y = make_classification(n_samples=100, n_features=10, n_informative=5, n_redundant=5, n_classes=2, random_state=1)\n",
    "X = pd.DataFrame(X)\n",
    "X_train, X_test, y_train, y_test = train_test_split(X, y, test_size=0.5, random_state=0)\n",
    "\n",
    "# Modelo Árvore\n",
    "rf_model = GradientBoostingClassifier()\n",
    "rf_model.fit(X_train, y_train)\n",
    "\n",
    "# Estimando Erros\n",
    "res_rf= rf_model.predict(X_test)\n",
    "acc_rf = 1 - np.mean(abs(res_rf-y_test))\n",
    "print(f'Accuracy: {acc_rf}')"
   ]
  },
  {
   "cell_type": "markdown",
   "id": "7dad7e5e",
   "metadata": {},
   "source": [
    "### KNN"
   ]
  },
  {
   "cell_type": "code",
   "execution_count": 7,
   "id": "9cbd84e1",
   "metadata": {},
   "outputs": [
    {
     "name": "stdout",
     "output_type": "stream",
     "text": [
      "Accuracy: 0.88\n"
     ]
    }
   ],
   "source": [
    "from sklearn.neighbors import KNeighborsClassifier\n",
    "\n",
    "X, y = make_classification(n_samples=100, n_features=10, n_informative=5, n_redundant=5, n_classes=2, random_state=1)\n",
    "X = pd.DataFrame(X)\n",
    "X_train, X_test, y_train, y_test = train_test_split(X, y, test_size=0.5, random_state=0)\n",
    "\n",
    "# Modelo Árvore\n",
    "rf_model = KNeighborsClassifier()\n",
    "rf_model.fit(X_train, y_train)\n",
    "\n",
    "# Estimando Erros\n",
    "res_rf= rf_model.predict(X_test)\n",
    "acc_rf = 1 - np.mean(abs(res_rf-y_test))\n",
    "print(f'Accuracy: {acc_rf}')"
   ]
  },
  {
   "cell_type": "markdown",
   "id": "44a09934",
   "metadata": {},
   "source": [
    "### Random Forest\n"
   ]
  },
  {
   "cell_type": "code",
   "execution_count": 8,
   "id": "b18b9e30",
   "metadata": {},
   "outputs": [
    {
     "name": "stdout",
     "output_type": "stream",
     "text": [
      "Accuracy: 0.9\n"
     ]
    }
   ],
   "source": [
    "from sklearn.ensemble import RandomForestClassifier\n",
    "\n",
    "X, y = make_classification(n_samples=100, n_features=10, n_informative=5, n_redundant=5, n_classes=2, random_state=1)\n",
    "X = pd.DataFrame(X)\n",
    "X_train, X_test, y_train, y_test = train_test_split(X, y, test_size=0.5, random_state=0)\n",
    "\n",
    "# Modelo Random Forest\n",
    "rf_model = RandomForestClassifier(n_estimators=100)\n",
    "rf_model.fit(X_train, y_train)\n",
    "\n",
    "# Estimando Erros\n",
    "res_rf= rf_model.predict(X_test)\n",
    "acc_rf = 1 - np.mean(abs(res_rf-y_test))\n",
    "print(f'Accuracy: {acc_rf}')\n"
   ]
  },
  {
   "cell_type": "markdown",
   "id": "64a19911",
   "metadata": {},
   "source": [
    "### Example Grid Search"
   ]
  },
  {
   "cell_type": "code",
   "execution_count": 9,
   "id": "85ecff13",
   "metadata": {},
   "outputs": [
    {
     "name": "stdout",
     "output_type": "stream",
     "text": [
      "Fitting 4 folds for each of 9 candidates, totalling 36 fits\n"
     ]
    },
    {
     "data": {
      "text/plain": [
       "GridSearchCV(cv=4, estimator=RandomForestClassifier(),\n",
       "             param_grid=[{'min_samples_leaf': [1, 5, 9],\n",
       "                          'n_estimators': [100, 200, 400]}],\n",
       "             scoring='accuracy', verbose=1)"
      ]
     },
     "execution_count": 9,
     "metadata": {},
     "output_type": "execute_result"
    }
   ],
   "source": [
    "from sklearn.model_selection import GridSearchCV\n",
    "X, y = make_classification(n_samples=100, n_features=10, n_informative=5, n_redundant=5, n_classes=2, random_state=1)\n",
    "X = pd.DataFrame(X)\n",
    "X_train, X_test, y_train, y_test = train_test_split(X, y, test_size=0.5, random_state=0)\n",
    "\n",
    "rf_model = RandomForestClassifier()\n",
    "\n",
    "params = [{'n_estimators': [100, 200, 400],\n",
    "         'min_samples_leaf': [1, 5, 9]}]\n",
    "\n",
    "gs_rf = GridSearchCV(rf_model,\n",
    "                      param_grid=params,\n",
    "                      scoring='accuracy',\n",
    "                      cv=4, verbose = 1)\n",
    "gs_rf.fit(X_train, y_train)\n"
   ]
  },
  {
   "cell_type": "code",
   "execution_count": 10,
   "id": "f6733001",
   "metadata": {},
   "outputs": [
    {
     "data": {
      "text/plain": [
       "0.8990384615384616"
      ]
     },
     "execution_count": 10,
     "metadata": {},
     "output_type": "execute_result"
    }
   ],
   "source": [
    "gs_rf.best_score_"
   ]
  },
  {
   "cell_type": "code",
   "execution_count": 11,
   "id": "80f733f2",
   "metadata": {},
   "outputs": [
    {
     "data": {
      "text/plain": [
       "RandomForestClassifier()"
      ]
     },
     "execution_count": 11,
     "metadata": {},
     "output_type": "execute_result"
    }
   ],
   "source": [
    "gs_rf.best_estimator_"
   ]
  }
 ],
 "metadata": {
  "kernelspec": {
   "display_name": "Python 3 (ipykernel)",
   "language": "python",
   "name": "python3"
  },
  "language_info": {
   "codemirror_mode": {
    "name": "ipython",
    "version": 3
   },
   "file_extension": ".py",
   "mimetype": "text/x-python",
   "name": "python",
   "nbconvert_exporter": "python",
   "pygments_lexer": "ipython3",
   "version": "3.9.7"
  }
 },
 "nbformat": 4,
 "nbformat_minor": 5
}
